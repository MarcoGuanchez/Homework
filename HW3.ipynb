{
 "cells": [
  {
   "cell_type": "code",
   "execution_count": 8,
   "metadata": {},
   "outputs": [
    {
     "name": "stdout",
     "output_type": "stream",
     "text": [
      "My name is Marco Guanchez\n",
      "My favorite food is Pasta\n",
      "My dream job is Spatial Analytics\n"
     ]
    }
   ],
   "source": [
    "person_name = 'Marco Guanchez'\n",
    "favorite_food = 'Pasta'\n",
    "dream_job = 'Spatial Analytics'\n",
    "\n",
    "print('My name is ' + person_name)\n",
    "print('My favorite food is ' + favorite_food)\n",
    "print('My dream job is ' + dream_job)"
   ]
  },
  {
   "cell_type": "code",
   "execution_count": 6,
   "metadata": {},
   "outputs": [
    {
     "name": "stdout",
     "output_type": "stream",
     "text": [
      "The length of a is ... 36\n",
      "Index value of the 4th character is: e\n"
     ]
    }
   ],
   "source": [
    "string = \" The weather is nice here in Florida\"\n",
    "print(\"The length of a is ...\", len(string))\n",
    "print('Index value of the 4th character is:', string[3])"
   ]
  }
 ],
 "metadata": {
  "kernelspec": {
   "display_name": "Python 3",
   "language": "python",
   "name": "python3"
  },
  "language_info": {
   "codemirror_mode": {
    "name": "ipython",
    "version": 3
   },
   "file_extension": ".py",
   "mimetype": "text/x-python",
   "name": "python",
   "nbconvert_exporter": "python",
   "pygments_lexer": "ipython3",
   "version": "3.11.5"
  }
 },
 "nbformat": 4,
 "nbformat_minor": 2
}
