{
 "cells": [
  {
   "cell_type": "markdown",
   "metadata": {},
   "source": [
    "# **Week 3 HOMEWORK QUESTIONS**\n",
    "1. What is algorithm?\n",
    "\n",
    "   A process or set of rules to be followed in calculations or other problems-solving operations, especially by a computer.\n",
    "2. Variables names may not start with certain characters - name two. \n",
    "    * Number\n",
    "    * (*) asterisk, only underscore characted (_) accepted.\n",
    "3. What is Semantic error?\n",
    "\n",
    "    An error which occurs when a program does compile, but does not do what you want. \n",
    "4. What is the # 1 rule of coding/debugging?\n",
    "\n",
    "    Not applying rubber ducking. \n",
    "5. List 5 Python reserved word. \n",
    "    * try\n",
    "    * raise\n",
    "    * form\n",
    "    * finally\n",
    "    * except"
   ]
  },
  {
   "cell_type": "markdown",
   "metadata": {},
   "source": [
    "Open a code cell in your Jupyter Notebook and write the following code:\n",
    "\n",
    "6. Write a multi-line comment with your name, favorite food, and dream job on 3 different lines"
   ]
  },
  {
   "cell_type": "code",
   "execution_count": 1,
   "metadata": {},
   "outputs": [
    {
     "name": "stdout",
     "output_type": "stream",
     "text": [
      "My name is Marco Guanchez\n",
      "My favorite food is Pasta\n",
      "My dream job is Spatial Analytics\n"
     ]
    }
   ],
   "source": [
    "#6\n",
    "person_name = 'Marco Guanchez'\n",
    "favorite_food = 'Pasta'\n",
    "dream_job = 'Spatial Analytics'\n",
    "\n",
    "print('My name is ' + person_name)\n",
    "print('My favorite food is ' + favorite_food)\n",
    "print('My dream job is ' + dream_job)"
   ]
  },
  {
   "cell_type": "markdown",
   "metadata": {},
   "source": [
    "7. Assign 5 different data types to 5 different variables. At least one datatype must be a string\n",
    "    * Print the length of your string   \n",
    "    * Print the index value of the 4th character in your string"
   ]
  },
  {
   "cell_type": "code",
   "execution_count": 2,
   "metadata": {},
   "outputs": [
    {
     "name": "stdout",
     "output_type": "stream",
     "text": [
      "The length of a is ... 36\n",
      "Index value of the 4th character is: e\n"
     ]
    }
   ],
   "source": [
    "#7 \n",
    "forecast = \" The weather is nice here in Florida\"\n",
    "\n",
    "print(\"The length of a is ...\", len(string))\n",
    "print('Index value of the 4th character is:', string[3])"
   ]
  },
  {
   "cell_type": "markdown",
   "metadata": {},
   "source": [
    "8. Create a new variable called savvy, and assign it the string with this phrase \"Learning Data Analytics and Python is Awesome!\"\n",
    "    * Return a range of characters that slices the above string from the beginning of \"ing\" up to before \"and\"\n",
    "    * Replace \"Awesome\" with \"great\" in the string\n",
    "    * Test and print the savvy string to see it contains \"Python\""
   ]
  },
  {
   "cell_type": "code",
   "execution_count": 9,
   "metadata": {},
   "outputs": [
    {
     "name": "stdout",
     "output_type": "stream",
     "text": [
      "ing Data Analytic\n",
      "Learning Data Analytics and Python is great\n",
      "True\n"
     ]
    }
   ],
   "source": [
    "#8\n",
    "savvy = \"Learning Data Analytics and Python is Awesome\"\n",
    "print(savvy[5:22])\n",
    "print(savvy.replace('Awesome', 'great'))\n",
    "print(\"Python\" in savvy)"
   ]
  },
  {
   "cell_type": "markdown",
   "metadata": {},
   "source": [
    "9. Create and assign 3 more variables called name, age and length using the multi-variable naming method\n",
    "    * Format a new string called 'miniBio' using variables in curly brackets to complete this phrase... \"Hi my name is (name), I am (tall) and (so) old today.\"\n",
    "    * Print 'miniBio'\n",
    "    * Cast and print the age variable to a floa"
   ]
  },
  {
   "cell_type": "code",
   "execution_count": 16,
   "metadata": {},
   "outputs": [
    {
     "name": "stdout",
     "output_type": "stream",
     "text": [
      "Hi my name is Marco, I am 24 and 45 old today\n",
      "45.0\n"
     ]
    }
   ],
   "source": [
    "#9\n",
    "name, age, length = (\"Marco\", 45, 24)\n",
    "minibio = f\"Hi my name is {name}, I am {length} and {age} old today\"\n",
    "print(minibio)\n",
    "print(float(age))"
   ]
  },
  {
   "cell_type": "markdown",
   "metadata": {},
   "source": [
    "# **Complex Data Types:**"
   ]
  },
  {
   "cell_type": "markdown",
   "metadata": {},
   "source": [
    "10. Create a list of at least 5 elements of mixed data types\n",
    "    * Replace a part of it with something else\n",
    "    * Append or insert several more items to the list\n",
    "    * Find and print the length of the list\n",
    "    * Slice a sub-section of the 1st list, and save it to a different 2nd list\n",
    "    * Print the 2nd list\n",
    "    * Extend your original list with the 2nd list sliced above\n",
    "    * Create a new list called \"simList\" containing at least 5 elements of the same data type, either string, integer, float, or Boolean\n",
    "    * Sort \"simList\", and print the list\n",
    "    * Copy the \"simList\" list to another 3rd list\n",
    "    * Add the 2nd and 3rd lists together into a 4th list"
   ]
  },
  {
   "cell_type": "code",
   "execution_count": 43,
   "metadata": {},
   "outputs": [
    {
     "name": "stdout",
     "output_type": "stream",
     "text": [
      "[7, 20.6, 'Good Day', True, ['x', 'y', 'z']]\n",
      "[7, 20.6, 'Old', 'Good Day', True, ['x', 'y', 'z'], 'New']\n",
      "7\n",
      "[20.6, 'Old', 'Good Day']\n",
      "[7, 20.6, 'Old', 'Good Day', True, ['x', 'y', 'z'], 'New', 20.6, 'Old', 'Good Day']\n",
      "[1.2, 7.6, 9.5, 14.3, 89, 100.9]\n",
      "[1.2, 7.6, 9.5, 14.3, 89, 100.9]\n",
      "[1.2, 7.6, 9.5, 14.3, 89, 100.9, 1.2, 7.6, 9.5, 14.3, 89, 100.9]\n"
     ]
    }
   ],
   "source": [
    "#10\n",
    "mylist = [7, 20.6,\"Good Day\", True, ['x', 'y', 'z']]\n",
    "print(mylist)\n",
    "mylist.append(\"New\")\n",
    "mylist.insert(2,\"Old\")\n",
    "print(mylist)\n",
    "print(len(mylist))\n",
    "mylistb = mylist[1:4]\n",
    "print(mylistb)\n",
    "mylist.extend(mylistb)\n",
    "print(mylist)\n",
    "simlist = [9.5, 1.2, 100.9, 14.3, 89, 7.6]\n",
    "simlist.sort();\n",
    "print(simlist)\n",
    "simlistb = simlist.copy()\n",
    "print(simlistb)\n",
    "simlistc = simlist + simlistb\n",
    "print(simlistc)\n",
    "\n",
    "\n",
    "\n",
    "\n"
   ]
  },
  {
   "cell_type": "markdown",
   "metadata": {},
   "source": [
    "11. Create a tuple of about 5 elements\n",
    "    * Multiply your tuple by 3 and save it to a new 2nd tuple\n",
    "    * Access and print the 12th element from the 2nd tuple\n",
    "    * Sort the 2nd tuple and print it\n",
    "    * Copy 4 specific elements from your 2nd tuple to a new 3nd tuple\n",
    "    * Unpack the 3rd tuple into 4 variables and print these variables\n",
    "    * Create a 4th tuple with single item 50 and print this tuple\n",
    "    * Add the 2nd and 3rd tuple together into a 5th tuple and print the tuple"
   ]
  },
  {
   "cell_type": "code",
   "execution_count": 61,
   "metadata": {},
   "outputs": [
    {
     "name": "stdout",
     "output_type": "stream",
     "text": [
      "pop\n",
      "['gospel', 'gospel', 'gospel', 'jazz', 'jazz', 'jazz', 'pop', 'pop', 'pop', 'rap', 'rap', 'rap', 'rock', 'rock', 'rock']\n",
      "('rap', 'pop', 'jazz', 'gospel')\n",
      "rap\n",
      "pop\n",
      "jazz\n",
      "gospel\n",
      "50\n",
      "('rap', 'pop', 'jazz', 'gospel', 'rock', 'rap', 'pop', 'jazz', 'gospel', 'rock', 'rap', 'pop', 'jazz', 'gospel', 'rock', 'rap', 'pop', 'jazz', 'gospel')\n"
     ]
    }
   ],
   "source": [
    "tuplea = (\"rap\", \"pop\", \"jazz\", \"gospel\", \"rock\")\n",
    "tupleb = tuplea * 3\n",
    "print(tupleb[11])\n",
    "print(sorted(tupleb))\n",
    "tuplec = tupleb [0:4]\n",
    "print(tuplec)\n",
    "(purple, red, white, green)  = tuplec\n",
    "print(purple)\n",
    "print(red)\n",
    "print(white)\n",
    "print(green)\n",
    "tupled = 50\n",
    "print(tupled)\n",
    "tuplee = tupleb + tuplec \n",
    "print(tuplee)\n"
   ]
  },
  {
   "cell_type": "markdown",
   "metadata": {},
   "source": [
    "12. Create a set of 3 elements\n",
    "    * Add a list of fruits to the above set and print the result\n",
    "    * Add a car element to your set\n",
    "    * Create a 2nd set with a few off items\n",
    "    * Save the union of 1st set and 2nd set to 3rd set\n",
    "    * Pop an element from the 2nd set, and print the remainder of the set\n",
    "    * Clear the 1st setand the print the result\n",
    "    * Discard an element, and remove another element from the 3rd set\n",
    "    * Print the remainder of the 3rd set"
   ]
  },
  {
   "cell_type": "code",
   "execution_count": 71,
   "metadata": {},
   "outputs": [
    {
     "name": "stdout",
     "output_type": "stream",
     "text": [
      "{'soccer', 'pear', 'tennis', 'coconut', 'orange', 'skating'}\n",
      "{'car', 'soccer', 'pear', 'tennis', 'coconut', 'orange', 'skating'}\n",
      "{'car', 'soccer', 'screwdriver', 'pear', 'tennis', 'coconut', 'hammer', 'orange', 'wrench', 'skating'}\n",
      "{'hammer', 'wrench'}\n",
      "set()\n",
      "{'car', 'lemon', 'soccer', 'screwdriver', 'tennis', 'coconut', 'hammer', 'orange', 'wrench', 'skating'}\n"
     ]
    }
   ],
   "source": [
    "seta = {\"tennis\", \"soccer\", \"skating\"}\n",
    "seta.add(\"orange\")\n",
    "seta.add(\"pear\")\n",
    "seta.add(\"coconut\")\n",
    "print(seta)\n",
    "seta.add(\"car\")\n",
    "print(seta)\n",
    "setb = {\"wrench\", \"screwdriver\", \"hammer\"}\n",
    "setc = seta.union(setb)\n",
    "print(setc)\n",
    "setb.pop()\n",
    "print(setb)\n",
    "seta.clear()\n",
    "print(seta)\n",
    "setc.discard(\"pear\")\n",
    "setc.add(\"lemon\")\n",
    "print(setc)\n",
    "\n",
    "\n",
    "\n"
   ]
  },
  {
   "cell_type": "markdown",
   "metadata": {},
   "source": [
    "13. Creat a dictionary with at least 5 values of different data types\n",
    "     * Print out 1 value\n",
    "     * Replace any one value in your dictionary with your name\n",
    "     * Add your favorite color to the dictionary\n",
    "     * Add a list, tuple or set to the dictionary\n",
    "     * Print a list of dictionary values\n",
    "     * Print a list of the dictionary values\n",
    "     * Copy your 1st dictionary into a 2nd dictionary\n",
    "     * Pop an item form the 2nd diciitonary, and print the dictionary\n",
    "     * Remove all the elements from the 2nd dictionary and print the results"
   ]
  },
  {
   "cell_type": "code",
   "execution_count": 82,
   "metadata": {},
   "outputs": [
    {
     "name": "stdout",
     "output_type": "stream",
     "text": [
      "city\n",
      "dict_keys(['city', 'Temperature_F', 'longitude', 'lattitude', 'is_cold', 'name', 'color', 'airplanes'])\n",
      "dict_values(['Jacksonville', '64.5', '30', '81', 'False', 'Marco', 'blue', {'boeing', 'airbus'}])\n",
      "{'Temperature_F': '64.5', 'longitude': '30', 'lattitude': '81', 'is_cold': 'False', 'name': 'Marco', 'color': 'blue', 'airplanes': {'boeing', 'airbus'}}\n",
      "{}\n"
     ]
    }
   ],
   "source": [
    "my_dictionary = {\n",
    "    'city': 'Jacksonville',\n",
    "    'Temperature_F':  '64.5',\n",
    "    'longitude': \"30\",\n",
    "    'lattitude': '81', \n",
    "    'is_cold': \"False\"\n",
    "}\n",
    "print(\"city\")\n",
    "my_dictionary['name'] = \"Marco\"\n",
    "my_dictionary['color'] = \"blue\"\n",
    "my_dictionary[\"airplanes\"] = {\"airbus\", \"boeing\"}\n",
    "print(my_dictionary.keys())\n",
    "print(my_dictionary.values())\n",
    "my_dictionary2 = my_dictionary.copy()\n",
    "my_dictionary2.pop(\"city\")\n",
    "print(my_dictionary2)  \n",
    "my_dictionary2.clear()\n",
    "print(my_dictionary2)\n",
    "\n"
   ]
  }
 ],
 "metadata": {
  "kernelspec": {
   "display_name": "Python 3",
   "language": "python",
   "name": "python3"
  },
  "language_info": {
   "codemirror_mode": {
    "name": "ipython",
    "version": 3
   },
   "file_extension": ".py",
   "mimetype": "text/x-python",
   "name": "python",
   "nbconvert_exporter": "python",
   "pygments_lexer": "ipython3",
   "version": "3.11.5"
  }
 },
 "nbformat": 4,
 "nbformat_minor": 2
}
