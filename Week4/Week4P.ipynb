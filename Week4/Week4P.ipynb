{
 "cells": [
  {
   "cell_type": "markdown",
   "metadata": {},
   "source": [
    "1. Create an if statement: if 'age' is greater than or equal to 25, print \"Renting a car is more affordable\", however if 'age' is less than 25, print \"Renting a car is very expensive.\""
   ]
  },
  {
   "cell_type": "code",
   "execution_count": 3,
   "metadata": {},
   "outputs": [
    {
     "name": "stdout",
     "output_type": "stream",
     "text": [
      "Renting a car is more affordable\n"
     ]
    }
   ],
   "source": [
    "age = int(input('enter age:'))\n",
    "\n",
    "if age >= 25:\n",
    "    print('Renting a car is more affordable')\n",
    "else:\n",
    "    print(' Renting a car is very expensive')"
   ]
  },
  {
   "cell_type": "markdown",
   "metadata": {},
   "source": [
    "2. Create and chain an if-else statement: if 'age' is greater than or equal to 25, print \"Renting a car is more affordable.\" If 'age' is less than 25 but greater than or equal to 18, print \"Renting a car is very expensive.\" Finally, if age is less than 18, print \"You cannot legally rent a car.\""
   ]
  },
  {
   "cell_type": "code",
   "execution_count": 4,
   "metadata": {},
   "outputs": [
    {
     "name": "stdout",
     "output_type": "stream",
     "text": [
      "Renting a car is more affordable\n"
     ]
    }
   ],
   "source": [
    "Age = 27\n",
    "\n",
    "if Age >= 25:\n",
    "    print (\"Renting a car is more affordable\")\n",
    "else:\n",
    "    if Age < 25 and Age >= 18:\n",
    "        print('Renting a car is very expensive.')\n",
    "    else:\n",
    "        if Age < 18:\n",
    "            print('You cannot legally rent a car.')\n",
    "\n"
   ]
  },
  {
   "cell_type": "markdown",
   "metadata": {},
   "source": [
    "3. Loop over the following string to (1) count all the characters in the string \n",
    "and (2) print out all the vowels -- \"The quick brown fox jumps over the lazy dog\""
   ]
  },
  {
   "cell_type": "code",
   "execution_count": 6,
   "metadata": {},
   "outputs": [
    {
     "name": "stdout",
     "output_type": "stream",
     "text": [
      "The characters in the string is  43\n",
      "checking with Len:  43\n",
      "e u i o o u o e e a o "
     ]
    }
   ],
   "source": [
    "string1 = \"The quick brown fox jumps over the lazy dog\"\n",
    "count = 0\n",
    "vowels = \"AaEeIiOoUu\"\n",
    "\n",
    "for i in string1:\n",
    "    count += 1\n",
    "print(\"The characters in the string is \", count)\n",
    "\n",
    "print(\"checking with Len: \", len(string1))\n",
    "\n",
    "for letters in string1:\n",
    "    if letters in vowels:\n",
    "        print(letters,  end = \" \")"
   ]
  },
  {
   "cell_type": "markdown",
   "metadata": {},
   "source": [
    "4. Write a nested loop that prints out every piece of clothing from the couture list, in every fashionable color from the panettone set: couture = [\"trousers\", \"blouse\", \"bandana\", \"cumber band\", \"blazer\", \"vest\", \"french beret\", \"scarf\", \"stole\"] and panettone = {\"cerise\", \"fuchsia\", \"aqua\", \"maple\", \"auburn\", \"burnt sienna\", \"gunmetal blue\", \"Dark Sapphire\"}"
   ]
  },
  {
   "cell_type": "code",
   "execution_count": 9,
   "metadata": {},
   "outputs": [
    {
     "name": "stdout",
     "output_type": "stream",
     "text": [
      "trousers cerise\n",
      "trousers auburn\n",
      "trousers burnt sienna\n",
      "trousers fuchsia\n",
      "trousers aqua\n",
      "trousers maple\n",
      "trousers gunmetal blue\n",
      "trousers Dark Sapphire\n",
      "blouse cerise\n",
      "blouse auburn\n",
      "blouse burnt sienna\n",
      "blouse fuchsia\n",
      "blouse aqua\n",
      "blouse maple\n",
      "blouse gunmetal blue\n",
      "blouse Dark Sapphire\n",
      "bandana cerise\n",
      "bandana auburn\n",
      "bandana burnt sienna\n",
      "bandana fuchsia\n",
      "bandana aqua\n",
      "bandana maple\n",
      "bandana gunmetal blue\n",
      "bandana Dark Sapphire\n",
      "cumber band cerise\n",
      "cumber band auburn\n",
      "cumber band burnt sienna\n",
      "cumber band fuchsia\n",
      "cumber band aqua\n",
      "cumber band maple\n",
      "cumber band gunmetal blue\n",
      "cumber band Dark Sapphire\n",
      "blazer cerise\n",
      "blazer auburn\n",
      "blazer burnt sienna\n",
      "blazer fuchsia\n",
      "blazer aqua\n",
      "blazer maple\n",
      "blazer gunmetal blue\n",
      "blazer Dark Sapphire\n",
      "vest cerise\n",
      "vest auburn\n",
      "vest burnt sienna\n",
      "vest fuchsia\n",
      "vest aqua\n",
      "vest maple\n",
      "vest gunmetal blue\n",
      "vest Dark Sapphire\n",
      "french beret cerise\n",
      "french beret auburn\n",
      "french beret burnt sienna\n",
      "french beret fuchsia\n",
      "french beret aqua\n",
      "french beret maple\n",
      "french beret gunmetal blue\n",
      "french beret Dark Sapphire\n",
      "scarf cerise\n",
      "scarf auburn\n",
      "scarf burnt sienna\n",
      "scarf fuchsia\n",
      "scarf aqua\n",
      "scarf maple\n",
      "scarf gunmetal blue\n",
      "scarf Dark Sapphire\n",
      "stole cerise\n",
      "stole auburn\n",
      "stole burnt sienna\n",
      "stole fuchsia\n",
      "stole aqua\n",
      "stole maple\n",
      "stole gunmetal blue\n",
      "stole Dark Sapphire\n"
     ]
    }
   ],
   "source": [
    "couture = [\"trousers\", \"blouse\", \"bandana\", \"cumber band\", \"blazer\", \"vest\", \"french beret\", \"scarf\", \"stole\"] \n",
    "panettone = {\"cerise\", \"fuchsia\", \"aqua\", \"maple\", \"auburn\", \"burnt sienna\", \"gunmetal blue\", \"Dark Sapphire\"}\n",
    "\n",
    "for x in couture:\n",
    "    for y in panettone:\n",
    "        print(x,y)\n",
    "    "
   ]
  },
  {
   "cell_type": "markdown",
   "metadata": {},
   "source": [
    "5. Use range as a loop to calculate the sum of all the numbers from 1 to 100"
   ]
  },
  {
   "cell_type": "code",
   "execution_count": 11,
   "metadata": {},
   "outputs": [
    {
     "name": "stdout",
     "output_type": "stream",
     "text": [
      "5050\n"
     ]
    }
   ],
   "source": [
    "sum = 0\n",
    "for i in range(1,101):\n",
    "    sum += i\n",
    "print(sum)"
   ]
  },
  {
   "cell_type": "markdown",
   "metadata": {},
   "source": [
    "6. Print the second item in this fruits list. [\"apple\", \"banana\", \"cherry\"]"
   ]
  },
  {
   "cell_type": "code",
   "execution_count": 13,
   "metadata": {},
   "outputs": [
    {
     "name": "stdout",
     "output_type": "stream",
     "text": [
      "banana\n"
     ]
    }
   ],
   "source": [
    "fruits = ['apple', 'banana', 'cherry']\n",
    "\n",
    "print(fruits[1])"
   ]
  },
  {
   "cell_type": "markdown",
   "metadata": {},
   "source": [
    "7. Change the value from \"apple\" to \"kiwi\", in the fruits list. [\"apple\", \"banana\", \"cherry\"]"
   ]
  },
  {
   "cell_type": "code",
   "execution_count": 14,
   "metadata": {},
   "outputs": [
    {
     "name": "stdout",
     "output_type": "stream",
     "text": [
      "['kiwi', 'banana', 'cherry']\n"
     ]
    }
   ],
   "source": [
    "fruits = ['apple', 'banana', 'cherry']\n",
    "fruits[0] = 'kiwi'\n",
    "print(fruits)"
   ]
  },
  {
   "cell_type": "markdown",
   "metadata": {},
   "source": [
    "8. Use the append method to add \"orange\" to the fruits list. [\"apple\", \"banana\", \"cherry\"]"
   ]
  },
  {
   "cell_type": "code",
   "execution_count": 19,
   "metadata": {},
   "outputs": [
    {
     "name": "stdout",
     "output_type": "stream",
     "text": [
      "['apple', 'banana', 'cherry', 'orange']\n"
     ]
    }
   ],
   "source": [
    "fruits = ['apple', 'banana', 'cherry']\n",
    "fruits.append('orange')\n",
    "print(fruits)"
   ]
  },
  {
   "cell_type": "markdown",
   "metadata": {},
   "source": [
    "9. Use the insert method to add \"lemon\" as the second item in the fruits list. [\"apple\", \"banana\", \"cherry\"]"
   ]
  },
  {
   "cell_type": "code",
   "execution_count": 20,
   "metadata": {},
   "outputs": [
    {
     "name": "stdout",
     "output_type": "stream",
     "text": [
      "['apple', 'lemon', 'banana', 'cherry']\n"
     ]
    }
   ],
   "source": [
    "fruits = ['apple', 'banana', 'cherry']\n",
    "fruits.insert(1, 'lemon')\n",
    "print(fruits)"
   ]
  },
  {
   "cell_type": "markdown",
   "metadata": {},
   "source": [
    "10. Use the remove method to remove \"banana\" from the fruits list. [\"apple\", \"banana\", \"cherry\"]"
   ]
  },
  {
   "cell_type": "code",
   "execution_count": 21,
   "metadata": {},
   "outputs": [
    {
     "name": "stdout",
     "output_type": "stream",
     "text": [
      "['apple', 'cherry']\n"
     ]
    }
   ],
   "source": [
    "fruits = ['apple', 'banana', 'cherry']\n",
    "fruits.remove('banana')\n",
    "print(fruits)\n"
   ]
  },
  {
   "cell_type": "markdown",
   "metadata": {},
   "source": [
    "11. Use negative indexing to print the 3rd and 2nd to last items in the list. [\"apple\", \"banana\", \"cherry\", \"orange\", \"kiwi\", \"melon\", \"mango\"]"
   ]
  },
  {
   "cell_type": "code",
   "execution_count": 22,
   "metadata": {},
   "outputs": [
    {
     "name": "stdout",
     "output_type": "stream",
     "text": [
      "kiwi melon\n"
     ]
    }
   ],
   "source": [
    "fruits = [\"apple\", \"banana\", \"cherry\", \"orange\", \"kiwi\", \"melon\", \"mango\"]\n",
    "print(fruits[-3],fruits[-2])"
   ]
  },
  {
   "cell_type": "markdown",
   "metadata": {},
   "source": [
    "12. Use a range of indexes to print the third, fourth, and fifth item in the list. [\"apple\", \"banana\", \"cherry\", \"orange\", \"kiwi\", \"melon\", \"mango\"]"
   ]
  },
  {
   "cell_type": "code",
   "execution_count": 24,
   "metadata": {},
   "outputs": [
    {
     "name": "stdout",
     "output_type": "stream",
     "text": [
      "cherry\n",
      "orange\n",
      "kiwi\n"
     ]
    }
   ],
   "source": [
    "fruits = ['apple', 'banana', 'cherry', 'orange', 'kiwi', 'melon', 'mango']\n",
    "for fruit in range(2,5):\n",
    "    print(fruits[fruit])"
   ]
  },
  {
   "cell_type": "markdown",
   "metadata": {},
   "source": [
    "13. Use the correct syntax to print the number of items in the list. [\"apple\", \"banana\", \"cherry\", \"orange\", \"kiwi\", \"melon\", \"mango\"]"
   ]
  },
  {
   "cell_type": "code",
   "execution_count": 25,
   "metadata": {},
   "outputs": [
    {
     "name": "stdout",
     "output_type": "stream",
     "text": [
      "7\n"
     ]
    }
   ],
   "source": [
    "fruits = ['apple', 'banana', 'cherry', 'orange', 'kiwi', 'melon', 'mango']\n",
    "print(len(fruits))\n"
   ]
  },
  {
   "cell_type": "markdown",
   "metadata": {},
   "source": [
    "14. Use the correct syntax to sort this list in reverse order [\"apple\", \"banana\", \"cherry\", \"orange\", \"kiwi\", \"melon\", \"mango\"]"
   ]
  },
  {
   "cell_type": "code",
   "execution_count": 26,
   "metadata": {},
   "outputs": [
    {
     "name": "stdout",
     "output_type": "stream",
     "text": [
      "['orange', 'melon', 'mango', 'kiwi', 'cherry', 'banana', 'apple']\n"
     ]
    }
   ],
   "source": [
    "fruits = ['apple', 'banana', 'cherry', 'orange', 'kiwi', 'melon', 'mango']\n",
    "fruits.sort(reverse=True)\n",
    "print(fruits)"
   ]
  },
  {
   "cell_type": "markdown",
   "metadata": {},
   "source": [
    "15. Use the DateTime module to get Current Date and Time, and save it to a variable. Then extract just the Full month name form that variable."
   ]
  },
  {
   "cell_type": "code",
   "execution_count": 28,
   "metadata": {},
   "outputs": [
    {
     "name": "stdout",
     "output_type": "stream",
     "text": [
      "October\n"
     ]
    }
   ],
   "source": [
    "import datetime as dt\n",
    "current_dt = dt.datetime.now()\n",
    "month = current_dt.strftime(\"%B\")\n",
    "print(month)"
   ]
  },
  {
   "cell_type": "markdown",
   "metadata": {},
   "source": [
    "16. Write a simple function that takes 2 parameters -- a first name and a day name\n",
    "\n",
    "    * Set a default value for the day name of Sunday.\n",
    "    * Have the function print out a greeting -- using the parameters -- that says something like \"Hi first-name! Happy     day-name!\". Remember to use the variables in the greeting to replace first-name and day-name.\n",
    "    * Invoke this function with 2 variables.\n",
    "    * Invoke this function with 1 variable only."
   ]
  },
  {
   "cell_type": "code",
   "execution_count": 29,
   "metadata": {},
   "outputs": [
    {
     "name": "stdout",
     "output_type": "stream",
     "text": [
      "Hi Marco! Happy Monday!\n",
      "Hi Jose! Happy Sunday!\n"
     ]
    }
   ],
   "source": [
    "def fisrtfunstion (first_name, day_name = 'Sunday'):\n",
    "    print(f\"Hi {first_name}! Happy {day_name}!\")\n",
    "    \n",
    "fisrtfunstion ('Marco', 'Monday')\n",
    "fisrtfunstion(\"Jose\")"
   ]
  },
  {
   "cell_type": "markdown",
   "metadata": {},
   "source": [
    "17. Write a block of code to handle one of the most common Python exception errors. Select one of the common errors from the curriculum section on Python Exception handling. Have your code example uses the try,except, else, and finally components"
   ]
  },
  {
   "cell_type": "code",
   "execution_count": 34,
   "metadata": {},
   "outputs": [
    {
     "name": "stdout",
     "output_type": "stream",
     "text": [
      "Cardio+Strength\n",
      "The dinner is ready.\n"
     ]
    }
   ],
   "source": [
    "\n",
    "\n",
    "try: \n",
    "    print(Marco)\n",
    "except:\n",
    "    print(\"Cardio+Strength\")\n",
    "\n",
    "else:\n",
    "    print(\"Full Sail\")\n",
    "finally:\n",
    "  print(\"The dinner is ready.\")\n",
    "\t"
   ]
  }
 ],
 "metadata": {
  "kernelspec": {
   "display_name": "Python 3",
   "language": "python",
   "name": "python3"
  },
  "language_info": {
   "codemirror_mode": {
    "name": "ipython",
    "version": 3
   },
   "file_extension": ".py",
   "mimetype": "text/x-python",
   "name": "python",
   "nbconvert_exporter": "python",
   "pygments_lexer": "ipython3",
   "version": "3.11.5"
  }
 },
 "nbformat": 4,
 "nbformat_minor": 2
}
