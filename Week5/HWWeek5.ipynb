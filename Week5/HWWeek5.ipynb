{
 "cells": [
  {
   "cell_type": "markdown",
   "metadata": {},
   "source": [
    "# **Marco Guanchez Week 5 Homework**"
   ]
  },
  {
   "cell_type": "markdown",
   "metadata": {},
   "source": [
    "### 7. Import NumPy, use one of the NumPy methods and create an array with a shape of (2, 3, 2). You can use the reshape method -- .reshape()"
   ]
  },
  {
   "cell_type": "code",
   "execution_count": 15,
   "metadata": {},
   "outputs": [
    {
     "name": "stdout",
     "output_type": "stream",
     "text": [
      "[[[ 1  2]\n",
      "  [ 3  4]\n",
      "  [ 5  6]]\n",
      "\n",
      " [[ 7  8]\n",
      "  [ 9 10]\n",
      "  [11 12]]]\n"
     ]
    }
   ],
   "source": [
    "import numpy as np\n",
    "arr = np.array([1, 2, 3, 4, 5, 6, 7, 8, 9, 10, 11, 12])\n",
    "arr_reshaped = arr.reshape((2,3,2))\n",
    "print(arr_reshaped)"
   ]
  },
  {
   "cell_type": "markdown",
   "metadata": {},
   "source": [
    "### 8. Use NumPy .linspace() to create an array with 6 linearly spaced values between 0 and 20\n"
   ]
  },
  {
   "cell_type": "code",
   "execution_count": 19,
   "metadata": {},
   "outputs": [
    {
     "name": "stdout",
     "output_type": "stream",
     "text": [
      "[ 0.  4.  8. 12. 16. 20.]\n"
     ]
    }
   ],
   "source": [
    "array1 = np.linspace(0,20,6)\n",
    "print(array1)"
   ]
  },
  {
   "cell_type": "markdown",
   "metadata": {},
   "source": [
    "### 9. Make a Deep Copy of the above array"
   ]
  },
  {
   "cell_type": "code",
   "execution_count": 23,
   "metadata": {},
   "outputs": [
    {
     "name": "stdout",
     "output_type": "stream",
     "text": [
      "[ 0.  4.  8. 12. 16. 20.]\n"
     ]
    }
   ],
   "source": [
    "import numpy as np\n",
    "array1 = np.linspace(0, 20, 6)\n",
    "deep_copy_arr = np.copy(array1)\n",
    "print(deep_copy_arr)"
   ]
  },
  {
   "cell_type": "markdown",
   "metadata": {},
   "source": [
    "### 10. Concatenate these 3 arrays into a new array named 'newArray'...  \n",
    "        ([[25, 16]])  \n",
    "        ([[11, 2], [13, 4]])  \n",
    "        ([[7, 81], [5, 6], [11, 12]])  \n"
   ]
  },
  {
   "cell_type": "code",
   "execution_count": 31,
   "metadata": {},
   "outputs": [
    {
     "name": "stdout",
     "output_type": "stream",
     "text": [
      "[[25 16]\n",
      " [11  2]\n",
      " [13  4]\n",
      " [ 7 81]\n",
      " [ 5  6]\n",
      " [11 12]]\n"
     ]
    }
   ],
   "source": [
    "import numpy as np\n",
    "\n",
    "arraya = np.array([[25, 16]])\n",
    "arrayb = np.array([[11, 2], [13, 4]])  \n",
    "arrayc = np.array([[7, 81], [5, 6], [11, 12]])\n",
    "\n",
    "newarray = np.concatenate(( arraya,arrayb,arrayc), axis=0)\n",
    "print(newarray)"
   ]
  },
  {
   "cell_type": "markdown",
   "metadata": {},
   "source": [
    "#### 11. Sort 'newArray' in order into 'sortedArray'\n"
   ]
  },
  {
   "cell_type": "code",
   "execution_count": 33,
   "metadata": {},
   "outputs": [
    {
     "name": "stdout",
     "output_type": "stream",
     "text": [
      "[[16 25]\n",
      " [ 2 11]\n",
      " [ 4 13]\n",
      " [ 7 81]\n",
      " [ 5  6]\n",
      " [11 12]]\n"
     ]
    }
   ],
   "source": [
    "import numpy as np\n",
    "sortedarray = np.sort(newarray)\n",
    "print(sortedarray)"
   ]
  },
  {
   "cell_type": "markdown",
   "metadata": {},
   "source": [
    "### 12. Unpack the array tuples from the above 'reshapedArray' into 4 well named variables. Print the 4 variables.\n"
   ]
  },
  {
   "cell_type": "code",
   "execution_count": 56,
   "metadata": {},
   "outputs": [
    {
     "name": "stdout",
     "output_type": "stream",
     "text": [
      "((0, 1, 2),)\n",
      "((3, 4, 5),)\n",
      "((6, 7, 8),)\n",
      "((9, 10, 11),)\n"
     ]
    }
   ],
   "source": [
    "reshapedArray = [(0, 1, 2), (3, 4, 5), (6, 7, 8), (9, 10, 11)]\n",
    "vara, varb, varc, vard = zip(reshapedArray)\n",
    "print(vara)\n",
    "print(varb)\n",
    "print(varc)\n",
    "print(vard)\n",
    "\n"
   ]
  },
  {
   "cell_type": "markdown",
   "metadata": {},
   "source": [
    "### 13. Combined and sort the following arrays into one called 'comboArray' ...  \n",
    "    one = ([10, 11, 12, 13, 14, 15, 16, 17])  \n",
    "    two = ([20, 21, 22, 23, 24, 25, 26, 27])  \n",
    "    three = ([ 0, 1, 2, 3, 4, 5, 6, 7])  \n"
   ]
  },
  {
   "cell_type": "code",
   "execution_count": 59,
   "metadata": {},
   "outputs": [
    {
     "name": "stdout",
     "output_type": "stream",
     "text": [
      "comboArray: [0, 1, 2, 3, 4, 5, 6, 7, 10, 11, 12, 13, 14, 15, 16, 17, 20, 21, 22, 23, 24, 25, 26, 27]\n"
     ]
    }
   ],
   "source": [
    "one = ([10, 11, 12, 13, 14, 15, 16, 17])\n",
    "two = ([20, 21, 22, 23, 24, 25, 26, 27])\n",
    "three = ([ 0, 1, 2, 3, 4, 5, 6, 7])\n",
    "\n",
    "comboArray = sorted (one + two + three)\n",
    "print(\"comboArray:\", comboarray)"
   ]
  },
  {
   "cell_type": "markdown",
   "metadata": {},
   "source": [
    "### 14. Take 'comboArray' and perform the following slicing activities:\n",
    "\n",
    "* print sec1 - the 2nd element  \n",
    "* print sec2 - all elements from the 3rd element to the last  \n",
    "* print sec3 - all elements from the 4th to the 14th elements  \n",
    "* print sec4 - the last 6 elements  \n",
    "* print sec5 - all element from #0 up to and including #15, using the negative number method, i.e. taking a section from the end.  \n",
    "* print sec6 - from #20 every even element to the end  \n",
    "* print sec7 - from the last element moving forward, every 5th element.  "
   ]
  },
  {
   "cell_type": "code",
   "execution_count": 76,
   "metadata": {},
   "outputs": [
    {
     "name": "stdout",
     "output_type": "stream",
     "text": [
      "The 2nd element is: 1\n",
      "From the 3rd element to the last: [2, 3, 4, 5, 6, 7, 10, 11, 12, 13, 14, 15, 16, 17, 20, 21, 22, 23, 24, 25, 26, 27]\n",
      "From the 4th element to the 14th [3, 4, 5, 6, 7, 10, 11, 12, 13, 14, 15]\n",
      "The last six elements are: [22, 23, 24, 25, 26, 27]\n",
      "From zero to 15th element [0, 1, 2, 3, 4, 5, 6, 7, 10, 11, 12, 13, 14, 15]\n",
      "From 20 every even element to the end [20, 22, 24, 26]\n",
      "From the last element moving forward, every 5th element [27, 22, 15, 10, 3]\n"
     ]
    }
   ],
   "source": [
    "import numpy as np\n",
    "# print sec1 - the 2nd element  \n",
    "sec1 = comboArray[1]\n",
    "print(\"The 2nd element is:\", sec1)\n",
    "sec2 = comboArray[2:]\n",
    "print (\"From the 3rd element to the last:\", sec2)\n",
    "sec3 = comboArray[3:14]\n",
    "print(\"From the 4th element to the 14th\", sec3)\n",
    "sec4 = comboArray[-6:]\n",
    "print(\"The last six elements are:\", sec4)\n",
    "sec5 = comboArray[-24:-10]\n",
    "print(\"From zero to 15th element\", sec5)\n",
    "sec6 = comboArray[16::2]\n",
    "print(\"From 20 every even element to the end\", sec6)\n",
    "sec7 = comboArray[::-5]\n",
    "print(\"From the last element moving forward, every 5th element\", sec7)"
   ]
  },
  {
   "cell_type": "markdown",
   "metadata": {},
   "source": [
    "### 15. Using Series, create a DataFrame that looks like this:  \n",
    "\n",
    "Ingredients\tQuantity\tUnit  \n",
    "Flour\t    4\t        cups  \n",
    "Milk\t    1\t        cup  \n",
    "Eggs\t    2\t        large  \n",
    "Spam\t    1\t        can  \n",
    "Name: Dinner, dtype: object  \n"
   ]
  },
  {
   "cell_type": "code",
   "execution_count": 93,
   "metadata": {},
   "outputs": [
    {
     "name": "stdout",
     "output_type": "stream",
     "text": [
      "  Ingredients  Quantity   Unit\n",
      "0       Flour         4   cups\n",
      "1        Milk         1    cup\n",
      "2        Eggs         2  large\n",
      "3        Spam         1    can\n"
     ]
    }
   ],
   "source": [
    "import pandas as pd\n",
    "\n",
    "ingredients = pd.Series(['Flour', 'Milk', 'Eggs', 'Spam'], name = 'Ingredients')\n",
    "quantity = pd.Series([4, 1, 2, 1], name = 'Quantity')\n",
    "unit =  pd.Series(['cups', 'cup', 'large', 'can'], name = 'Unit')\n",
    "\n",
    "dataframe= pd.concat([ingredients, quantity, unit], axis=1)\n",
    "print(dataframe)\n",
    "\n",
    "\n"
   ]
  },
  {
   "cell_type": "markdown",
   "metadata": {},
   "source": [
    "### 16. Take this data and create a DataFrame named studentData\n",
    "    {'Name': ['Jai', 'janusha', 'Gaurav', 'Anuj'],\n",
    "        'Height': [5.1, 6.2, 5.1, 5.2],\n",
    "        'Qualification': ['Msc', 'MA', 'Msc', 'Msc'],\n",
    "        'address': ['Delhi', 'Doha', 'Chennai', 'Dakhar'],\n",
    "        'Age': [21, 23, 24, 21],\n",
    "        'Pets': ['Dog', 'Bunny', 'Chinchilla', 'Parrot'],\n",
    "        'sport': ['Darts', 'Basketball', 'PaddleBoarding', 'Cricket']\n",
    "    }\n"
   ]
  },
  {
   "cell_type": "code",
   "execution_count": 103,
   "metadata": {},
   "outputs": [
    {
     "name": "stdout",
     "output_type": "stream",
     "text": [
      "      Name  Height Qualification  Address  Age        Pets           Sport\n",
      "0      Jai     5.1           Msc    Delhi   21         Dog           Darts\n",
      "1  janusha     6.2            MA     Doha   23       Bunny      Basketball\n",
      "2   Gaurav     5.1           Msc  Chennai   24  Chinchilla  PaddleBoarding\n",
      "3     Anuj     5.2           Msc   Dakhar   21      Parrot         Cricket\n"
     ]
    }
   ],
   "source": [
    "\n",
    "students = {'Name': ['Jai', 'janusha', 'Gaurav', 'Anuj'],\n",
    "            'Height': [5.1, 6.2, 5.1, 5.2],\n",
    "            'Qualification': ['Msc', 'MA', 'Msc', 'Msc'],\n",
    "            'Address': ['Delhi', 'Doha', 'Chennai', 'Dakhar'],\n",
    "            'Age': [21, 23, 24, 21],\n",
    "            'Pets': ['Dog', 'Bunny', 'Chinchilla', 'Parrot'],\n",
    "            'Sport': ['Darts', 'Basketball', 'PaddleBoarding', 'Cricket']\n",
    "}\n",
    "\n",
    "studentData = pd.DataFrame(Student)\n",
    "\n",
    "print(studentData)\n"
   ]
  },
  {
   "cell_type": "markdown",
   "metadata": {},
   "source": [
    "### 17. Add a new column to the DataFrame with the following deserts: [\"ice cream\", \"Cashew Fudge\", \"waffels\", \"Carrot Halwa\"]\n",
    "\n"
   ]
  },
  {
   "cell_type": "code",
   "execution_count": 105,
   "metadata": {},
   "outputs": [
    {
     "name": "stdout",
     "output_type": "stream",
     "text": [
      "      Name  Height Qualification  Address  Age        Pets           Sport  \\\n",
      "0      Jai     5.1           Msc    Delhi   21         Dog           Darts   \n",
      "1  janusha     6.2            MA     Doha   23       Bunny      Basketball   \n",
      "2   Gaurav     5.1           Msc  Chennai   24  Chinchilla  PaddleBoarding   \n",
      "3     Anuj     5.2           Msc   Dakhar   21      Parrot         Cricket   \n",
      "\n",
      "       Desserts  \n",
      "0     ice cream  \n",
      "1   Cashe Fudge  \n",
      "2       waffels  \n",
      "3  Carrot Halwa  \n"
     ]
    }
   ],
   "source": [
    "studentData['Desserts'] = ['ice cream', 'Cashe Fudge', 'waffels', \"Carrot Halwa\"]\n",
    "print(studentData)"
   ]
  },
  {
   "cell_type": "markdown",
   "metadata": {},
   "source": [
    "### 18. Sort the 'studentData' DataFrame in Ascending order -- Sorting by column 'Name' and then \"address\"\n"
   ]
  },
  {
   "cell_type": "code",
   "execution_count": 123,
   "metadata": {},
   "outputs": [
    {
     "name": "stdout",
     "output_type": "stream",
     "text": [
      "      Name  Height Qualification  address  Age        Pets           sport  \\\n",
      "3     Anuj     5.2           Msc   Dakhar   21      Parrot         Cricket   \n",
      "2   Gaurav     5.1           Msc  Chennai   24  Chinchilla  PaddleBoarding   \n",
      "0      Jai     5.1           Msc    Delhi   21         Dog           Darts   \n",
      "1  janusha     6.2            MA     Doha   23       Bunny      Basketball   \n",
      "\n",
      "        deserts  \n",
      "3  Carrot Halwa  \n",
      "2       waffles  \n",
      "0     ice cream  \n",
      "1  Cashew Fudge  \n"
     ]
    }
   ],
   "source": [
    "import pandas as pd\n",
    "\n",
    "data = {\n",
    "    'Name': ['Jai', 'janusha', 'Gaurav', 'Anuj'],\n",
    "    'Height': [5.1, 6.2, 5.1, 5.2],\n",
    "    'Qualification': ['Msc', 'MA', 'Msc', 'Msc'],\n",
    "    'address': ['Delhi', 'Doha', 'Chennai', 'Dakhar'],\n",
    "    'Age': [21, 23, 24, 21],\n",
    "    'Pets': ['Dog', 'Bunny', 'Chinchilla', 'Parrot'],\n",
    "    'sport': ['Darts', 'Basketball', 'PaddleBoarding', 'Cricket'],\n",
    "    'deserts': ['ice cream', 'Cashew Fudge', 'waffles', 'Carrot Halwa']\n",
    "}\n",
    "studentData = studentData.sort_values(by=['Name', 'address'], ascending=[True, True])\n",
    "\n",
    "print(studentData)\n"
   ]
  },
  {
   "cell_type": "markdown",
   "metadata": {},
   "source": [
    "### 19. Save this DataFrame here below to disc as a .CSV file with the name cows_and_goats.csv:\n"
   ]
  },
  {
   "cell_type": "code",
   "execution_count": null,
   "metadata": {},
   "outputs": [],
   "source": [
    "df = pd.DataFrame({'Cows': [12,20], 'Goats': [22,19]}, index=['Year 1', 'Year 2'])\n",
    "df.to_csv('cows_and_goats.csv')"
   ]
  },
  {
   "cell_type": "markdown",
   "metadata": {},
   "source": [
    "### 20.\n",
    "### (A) Using Pandas, make your own .CSV file with data on vegetables and save it.\n",
    "### (B) Using Pandas, make a change to your CSV file, and save a copy with a different name."
   ]
  },
  {
   "cell_type": "code",
   "execution_count": 9,
   "metadata": {},
   "outputs": [
    {
     "name": "stdout",
     "output_type": "stream",
     "text": [
      "  Vegetable   Color\n",
      "0  Jalapeno   Green\n",
      "1     Onion  Yellow\n",
      "2   Avocado   Green\n",
      "3   Pumpkin  Orange\n"
     ]
    }
   ],
   "source": [
    "#(A) \n",
    "import pandas as pd\n",
    "\n",
    "vegetable = pd.Series(['Jalapeno', 'Onion', 'Avocado', 'Pumpkin'], name = 'Vegetable')\n",
    "color = pd.Series(['Green', 'Yellow', 'Green', 'Orange' ], name = 'Color')\n",
    "\n",
    "\n",
    "df = pd.concat([vegetable, color], axis=1)\n",
    "\n",
    "df.to_csv('vegetables.csv')\n",
    "\n",
    "print(df)\n",
    "\n",
    "#(B)\n",
    "vegetablesNew = pd.read_csv('vegetables.csv')\n",
    "\n",
    "uglypretty = pd.Series(['pretty', 'ugly', 'pretty', 'ugly'])\n",
    "\n",
    "dfb = pd.concat([df, uglypretty])\n",
    "\n",
    "dfb.to_csv('vegetables2.csv')"
   ]
  }
 ],
 "metadata": {
  "kernelspec": {
   "display_name": "Python 3",
   "language": "python",
   "name": "python3"
  },
  "language_info": {
   "codemirror_mode": {
    "name": "ipython",
    "version": 3
   },
   "file_extension": ".py",
   "mimetype": "text/x-python",
   "name": "python",
   "nbconvert_exporter": "python",
   "pygments_lexer": "ipython3",
   "version": "3.11.5"
  }
 },
 "nbformat": 4,
 "nbformat_minor": 2
}
